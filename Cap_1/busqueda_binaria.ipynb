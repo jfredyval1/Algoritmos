{
 "cells": [
  {
   "cell_type": "markdown",
   "id": "b96b576f-44ec-4db4-8cf4-005e4dc4c444",
   "metadata": {},
   "source": [
    "Busqueda Binaria\n",
    "\n",
    "Algunas aplicaciones y constrastes con la busqueda binaria.\n",
    "\n",
    "La principal ventaja que presenta la *Busqueda binaria* con respecto a la busqueda rustica o de *fuerza bruta* es la reducción de intentos para encontrar la respuesta.\n",
    "\n",
    "**Busqueda bianria depende de la existencia de una lista ordenada sobre la que buscar**\n"
   ]
  },
  {
   "cell_type": "code",
   "execution_count": 4,
   "id": "240c3ad2-dcc6-45d2-b9f6-24dfb0d83295",
   "metadata": {},
   "outputs": [],
   "source": [
    "# Importar librerias necesarias\n",
    "import math"
   ]
  },
  {
   "cell_type": "markdown",
   "id": "6f6d0e3d-0d63-47f1-b603-55eac9db87e1",
   "metadata": {},
   "source": [
    "En una lista ordenada de 100 elementos, el numero máximo de intentos que podría llevar encontrar un elemento, podria ser `n`, sin embargo, la busqueda banria podría hacer exactamento lo mismo con un número maximo de $\\log_2 n$, para este caso $\\approx 7$"
   ]
  },
  {
   "cell_type": "code",
   "execution_count": 9,
   "id": "b7343e25-7342-4ca3-9f48-b8c42d095022",
   "metadata": {},
   "outputs": [
    {
     "name": "stdout",
     "output_type": "stream",
     "text": [
      "6.643856189774724\n"
     ]
    },
    {
     "data": {
      "text/plain": [
       "7"
      ]
     },
     "execution_count": 9,
     "metadata": {},
     "output_type": "execute_result"
    }
   ],
   "source": [
    "# Número total de posibilidades\n",
    "print(math.log2(100))\n",
    "# Número aproximado\n",
    "round(math.log2(100))"
   ]
  },
  {
   "cell_type": "markdown",
   "id": "16ed27ce-d735-423c-a92d-47f6bab5505d",
   "metadata": {},
   "source": [
    "Basado en ello es posible comparar y calcular el número máximo de intentos que un algortimo de *Busqueda binaria* tomára para realizar una tarea de esta naturaleza.\n"
   ]
  },
  {
   "cell_type": "code",
   "execution_count": 11,
   "id": "66992ff7-f45e-443f-9458-2709bd0b7413",
   "metadata": {},
   "outputs": [
    {
     "name": "stdout",
     "output_type": "stream",
     "text": [
      "17.872674880270605\n"
     ]
    },
    {
     "data": {
      "text/plain": [
       "18"
      ]
     },
     "execution_count": 11,
     "metadata": {},
     "output_type": "execute_result"
    }
   ],
   "source": [
    "# Cuantos intentos debe realizar busqueda binaria para encontrar un elemento en 240.000 posibilidades\n",
    "intentos = math.log2(240000)\n",
    "print(intentos)\n",
    "# Aproximandamente\n",
    "round(intentos)"
   ]
  },
  {
   "cell_type": "markdown",
   "id": "af7fc826-c6af-4eb3-88a9-397fbdb1be98",
   "metadata": {},
   "source": [
    "## Ejercicios\n",
    "1- Suponga que tiene una lista de 128 nombres\n",
    "¿Cuál es el número maximo de pasos necesarios para encontrar un nombre?\n",
    "\n",
    "2 - Suponga que duplica el número de nombres\n",
    "¿Cuál es el número maximo de intentos a realizar ahora?"
   ]
  },
  {
   "cell_type": "code",
   "execution_count": 15,
   "id": "28b36b35-57cb-4eae-b54a-7e0d4351dfc8",
   "metadata": {},
   "outputs": [
    {
     "name": "stdout",
     "output_type": "stream",
     "text": [
      "El número máximo de intentos con 128 elementos es: 7.0\n",
      "El número máximo de intentos con 128 elementos es: 8.0\n"
     ]
    }
   ],
   "source": [
    "# Respuesta 1\n",
    "ejer_1 = math.log2(128)\n",
    "print(f'El número máximo de intentos con 128 elementos es: {ejer_1}')\n",
    "# Respuesta 2 \n",
    "ejer_2 = math.log2(128*2)\n",
    "print(f'El número máximo de intentos con 128 elementos es: {ejer_2}')\n"
   ]
  },
  {
   "cell_type": "code",
   "execution_count": 20,
   "id": "bbd6776e-de4a-4475-afe3-66502c7603fa",
   "metadata": {},
   "outputs": [
    {
     "data": {
      "text/plain": [
       "29.897352853986263"
      ]
     },
     "execution_count": 20,
     "metadata": {},
     "output_type": "execute_result"
    }
   ],
   "source": [
    "math.log2(1000000000)"
   ]
  },
  {
   "cell_type": "markdown",
   "id": "7287740d-4843-4b4f-b7d6-237413053922",
   "metadata": {},
   "source": [
    "# Aplicando Busqueda binaria Vs Busqueda lineal\n",
    "Para ello se ha creado una lista ordenada de 1000 elementos"
   ]
  },
  {
   "cell_type": "code",
   "execution_count": 26,
   "id": "fdbdbbda-f15f-4807-ae2c-f1deb1706dab",
   "metadata": {},
   "outputs": [
    {
     "data": {
      "text/plain": [
       "1000"
      ]
     },
     "execution_count": 26,
     "metadata": {},
     "output_type": "execute_result"
    }
   ],
   "source": [
    "listado = list(range(0,1000))\n",
    "len(listado)"
   ]
  },
  {
   "cell_type": "code",
   "execution_count": 27,
   "id": "e3d6a1f4-9ba4-481b-871e-0b04e312a044",
   "metadata": {},
   "outputs": [],
   "source": [
    "# Busqueda lineal\n",
    "def busqueda_lineal(elemento,lista):\n",
    "    busquedas = 0\n",
    "    while i in lista:\n",
    "        busqueda +=1\n",
    "        if i == elemento:\n",
    "            print(f'Lo encontré, es {i}, tadré {busquedas} intentos')"
   ]
  },
  {
   "cell_type": "code",
   "execution_count": 28,
   "id": "bfd74cd6-1176-488f-a132-42cd993ae7c8",
   "metadata": {},
   "outputs": [
    {
     "ename": "UnboundLocalError",
     "evalue": "local variable 'busqueda' referenced before assignment",
     "output_type": "error",
     "traceback": [
      "\u001b[0;31m---------------------------------------------------------------------------\u001b[0m",
      "\u001b[0;31mUnboundLocalError\u001b[0m                         Traceback (most recent call last)",
      "Cell \u001b[0;32mIn[28], line 1\u001b[0m\n\u001b[0;32m----> 1\u001b[0m \u001b[43mbusqueda_lineal\u001b[49m\u001b[43m(\u001b[49m\u001b[38;5;241;43m5\u001b[39;49m\u001b[43m,\u001b[49m\u001b[43mlistado\u001b[49m\u001b[43m)\u001b[49m\n",
      "Cell \u001b[0;32mIn[27], line 5\u001b[0m, in \u001b[0;36mbusqueda_lineal\u001b[0;34m(elemento, lista)\u001b[0m\n\u001b[1;32m      3\u001b[0m busquedas \u001b[38;5;241m=\u001b[39m \u001b[38;5;241m0\u001b[39m\n\u001b[1;32m      4\u001b[0m \u001b[38;5;28;01mwhile\u001b[39;00m i \u001b[38;5;129;01min\u001b[39;00m lista:\n\u001b[0;32m----> 5\u001b[0m     busqueda \u001b[38;5;241m+\u001b[39m\u001b[38;5;241m=\u001b[39m\u001b[38;5;241m1\u001b[39m\n\u001b[1;32m      6\u001b[0m     \u001b[38;5;28;01mif\u001b[39;00m i \u001b[38;5;241m==\u001b[39m elemento:\n\u001b[1;32m      7\u001b[0m         \u001b[38;5;28mprint\u001b[39m(\u001b[38;5;124mf\u001b[39m\u001b[38;5;124m'\u001b[39m\u001b[38;5;124mLo encontré, es \u001b[39m\u001b[38;5;132;01m{\u001b[39;00mi\u001b[38;5;132;01m}\u001b[39;00m\u001b[38;5;124m, tadré \u001b[39m\u001b[38;5;132;01m{\u001b[39;00mbusquedas\u001b[38;5;132;01m}\u001b[39;00m\u001b[38;5;124m intentos\u001b[39m\u001b[38;5;124m'\u001b[39m)\n",
      "\u001b[0;31mUnboundLocalError\u001b[0m: local variable 'busqueda' referenced before assignment"
     ]
    }
   ],
   "source": [
    "busqueda_lineal(5,listado)"
   ]
  }
 ],
 "metadata": {
  "kernelspec": {
   "display_name": "Python 3 (ipykernel)",
   "language": "python",
   "name": "python3"
  },
  "language_info": {
   "codemirror_mode": {
    "name": "ipython",
    "version": 3
   },
   "file_extension": ".py",
   "mimetype": "text/x-python",
   "name": "python",
   "nbconvert_exporter": "python",
   "pygments_lexer": "ipython3",
   "version": "3.9.2"
  }
 },
 "nbformat": 4,
 "nbformat_minor": 5
}
